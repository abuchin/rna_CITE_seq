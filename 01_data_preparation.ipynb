{
 "cells": [
  {
   "cell_type": "markdown",
   "metadata": {
    "id": "VxqGDQLJP6gC"
   },
   "source": [
    "**Get the data for the model training**\n",
    "\n",
    "In this part of the code we will import the RNA-seq and CITE-seq data and start exploring potential models. First we would get the data in and convert it into the standard data format."
   ]
  },
  {
   "cell_type": "code",
   "execution_count": 3,
   "metadata": {
    "executionInfo": {
     "elapsed": 6087,
     "status": "ok",
     "timestamp": 1758221867095,
     "user": {
      "displayName": "Anatoly Buchin",
      "userId": "07136968367657434665"
     },
     "user_tz": 420
    },
    "id": "PJ3AKeG1MAVF"
   },
   "outputs": [],
   "source": [
    "# install right libraries\n",
    "\n",
    "!pip install scanpy --quiet\n"
   ]
  },
  {
   "cell_type": "code",
   "execution_count": 1,
   "metadata": {
    "executionInfo": {
     "elapsed": 4841,
     "status": "ok",
     "timestamp": 1758222007891,
     "user": {
      "displayName": "Anatoly Buchin",
      "userId": "07136968367657434665"
     },
     "user_tz": 420
    },
    "id": "CKvYrgRnLuAw"
   },
   "outputs": [],
   "source": [
    "\n",
    "# Import standard libraries\n",
    "import pandas as pd\n",
    "import numpy as np\n",
    "import matplotlib.pyplot as plt\n",
    "import seaborn as sns\n",
    "import scanpy as sc\n",
    "\n"
   ]
  },
  {
   "cell_type": "markdown",
   "metadata": {
    "id": "KwCGANOFM2Tv"
   },
   "source": [
    "### Import the data and convert"
   ]
  },
  {
   "cell_type": "code",
   "execution_count": 7,
   "metadata": {
    "id": "KwWHmiP0L-rp"
   },
   "outputs": [],
   "source": [
    "\n",
    "# protein expression data\n",
    "pd_prot_exp = pd.read_csv('/home/ec2-user/modal_form/CrossModalFormer_CITE_Seq/Data/documentation/Protein_expression.csv')\n"
   ]
  },
  {
   "cell_type": "code",
   "execution_count": null,
   "metadata": {
    "id": "3NrE6AKTM5J5"
   },
   "outputs": [],
   "source": [
    "\n",
    "# RNA expression data\n",
    "adata_1 = pd.read_csv('/home/ec2-user/modal_form/CrossModalFormer_CITE_Seq/Data/expression/RNA_expression_subset1a.csv')"
   ]
  },
  {
   "cell_type": "markdown",
   "metadata": {
    "id": "58KkAqlzM60P"
   },
   "source": [
    "### Convert RNA-seq data"
   ]
  },
  {
   "cell_type": "markdown",
   "metadata": {},
   "source": [
    "\n",
    "\n"
   ]
  }
 ],
 "metadata": {
  "colab": {
   "provenance": []
  },
  "kernelspec": {
   "display_name": ".venv",
   "language": "python",
   "name": "python3"
  },
  "language_info": {
   "codemirror_mode": {
    "name": "ipython",
    "version": 3
   },
   "file_extension": ".py",
   "mimetype": "text/x-python",
   "name": "python",
   "nbconvert_exporter": "python",
   "pygments_lexer": "ipython3",
   "version": "3.9.23"
  }
 },
 "nbformat": 4,
 "nbformat_minor": 0
}
