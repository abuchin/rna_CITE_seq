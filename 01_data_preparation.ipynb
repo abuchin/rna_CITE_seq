{
 "cells": [
  {
   "cell_type": "markdown",
   "metadata": {
    "id": "VxqGDQLJP6gC"
   },
   "source": [
    "**Get the data for the model training**\n",
    "\n",
    "In this part of the code we will import the RNA-seq and CITE-seq data and start exploring potential models. First we would get the data in and convert it into the standard data format."
   ]
  },
  {
   "cell_type": "code",
   "execution_count": 2,
   "metadata": {
    "executionInfo": {
     "elapsed": 4841,
     "status": "ok",
     "timestamp": 1758222007891,
     "user": {
      "displayName": "Anatoly Buchin",
      "userId": "07136968367657434665"
     },
     "user_tz": 420
    },
    "id": "CKvYrgRnLuAw"
   },
   "outputs": [],
   "source": [
    "\n",
    "# Import standard libraries\n",
    "import pandas as pd\n",
    "import numpy as np\n",
    "import matplotlib.pyplot as plt\n",
    "import seaborn as sns\n",
    "import scanpy as sc\n",
    "\n"
   ]
  },
  {
   "cell_type": "markdown",
   "metadata": {
    "id": "KwCGANOFM2Tv"
   },
   "source": [
    "### Import the data and convert"
   ]
  },
  {
   "cell_type": "code",
   "execution_count": 3,
   "metadata": {
    "id": "KwWHmiP0L-rp"
   },
   "outputs": [],
   "source": [
    "\n",
    "# protein expression data\n",
    "pd_prot_exp = pd.read_csv('/home/ec2-user/modal_form/CrossModalFormer_CITE_Seq/Data/documentation/Protein_expression.csv')\n"
   ]
  },
  {
   "cell_type": "code",
   "execution_count": 5,
   "metadata": {},
   "outputs": [
    {
     "data": {
      "text/html": [
       "<div>\n",
       "<style scoped>\n",
       "    .dataframe tbody tr th:only-of-type {\n",
       "        vertical-align: middle;\n",
       "    }\n",
       "\n",
       "    .dataframe tbody tr th {\n",
       "        vertical-align: top;\n",
       "    }\n",
       "\n",
       "    .dataframe thead th {\n",
       "        text-align: right;\n",
       "    }\n",
       "</style>\n",
       "<table border=\"1\" class=\"dataframe\">\n",
       "  <thead>\n",
       "    <tr style=\"text-align: right;\">\n",
       "      <th></th>\n",
       "      <th>Protein</th>\n",
       "      <th>CELL_1</th>\n",
       "      <th>CELL_2</th>\n",
       "      <th>CELL_3</th>\n",
       "      <th>CELL_4</th>\n",
       "      <th>CELL_5</th>\n",
       "      <th>CELL_6</th>\n",
       "      <th>CELL_7</th>\n",
       "      <th>CELL_8</th>\n",
       "      <th>CELL_9</th>\n",
       "      <th>...</th>\n",
       "      <th>CELL_218322</th>\n",
       "      <th>CELL_218323</th>\n",
       "      <th>CELL_218324</th>\n",
       "      <th>CELL_218325</th>\n",
       "      <th>CELL_218326</th>\n",
       "      <th>CELL_218327</th>\n",
       "      <th>CELL_218328</th>\n",
       "      <th>CELL_218329</th>\n",
       "      <th>CELL_218330</th>\n",
       "      <th>CELL_218331</th>\n",
       "    </tr>\n",
       "  </thead>\n",
       "  <tbody>\n",
       "    <tr>\n",
       "      <th>0</th>\n",
       "      <td>CD117 protein</td>\n",
       "      <td>0.000000</td>\n",
       "      <td>0.000000</td>\n",
       "      <td>0.405465</td>\n",
       "      <td>0.000000</td>\n",
       "      <td>0.000000</td>\n",
       "      <td>0.000000</td>\n",
       "      <td>0.000000</td>\n",
       "      <td>0.000000</td>\n",
       "      <td>1.609438</td>\n",
       "      <td>...</td>\n",
       "      <td>0.000000</td>\n",
       "      <td>0.000000</td>\n",
       "      <td>0.00000</td>\n",
       "      <td>0.000000</td>\n",
       "      <td>0.00000</td>\n",
       "      <td>0.000000</td>\n",
       "      <td>0.000000</td>\n",
       "      <td>0.000000</td>\n",
       "      <td>0.000000</td>\n",
       "      <td>0.693147</td>\n",
       "    </tr>\n",
       "    <tr>\n",
       "      <th>1</th>\n",
       "      <td>CD119 protein</td>\n",
       "      <td>1.386294</td>\n",
       "      <td>1.504077</td>\n",
       "      <td>1.871802</td>\n",
       "      <td>1.945910</td>\n",
       "      <td>2.079442</td>\n",
       "      <td>1.098612</td>\n",
       "      <td>1.791759</td>\n",
       "      <td>1.386294</td>\n",
       "      <td>1.609438</td>\n",
       "      <td>...</td>\n",
       "      <td>2.079442</td>\n",
       "      <td>1.791759</td>\n",
       "      <td>1.94591</td>\n",
       "      <td>1.252763</td>\n",
       "      <td>1.94591</td>\n",
       "      <td>0.693147</td>\n",
       "      <td>1.609438</td>\n",
       "      <td>1.386294</td>\n",
       "      <td>1.098612</td>\n",
       "      <td>1.098612</td>\n",
       "    </tr>\n",
       "    <tr>\n",
       "      <th>2</th>\n",
       "      <td>CD140a protein</td>\n",
       "      <td>0.693147</td>\n",
       "      <td>0.000000</td>\n",
       "      <td>0.000000</td>\n",
       "      <td>0.693147</td>\n",
       "      <td>0.000000</td>\n",
       "      <td>0.000000</td>\n",
       "      <td>0.000000</td>\n",
       "      <td>0.000000</td>\n",
       "      <td>0.000000</td>\n",
       "      <td>...</td>\n",
       "      <td>0.000000</td>\n",
       "      <td>0.000000</td>\n",
       "      <td>0.00000</td>\n",
       "      <td>0.000000</td>\n",
       "      <td>0.00000</td>\n",
       "      <td>0.000000</td>\n",
       "      <td>0.000000</td>\n",
       "      <td>0.000000</td>\n",
       "      <td>0.000000</td>\n",
       "      <td>0.000000</td>\n",
       "    </tr>\n",
       "    <tr>\n",
       "      <th>3</th>\n",
       "      <td>CD140b protein</td>\n",
       "      <td>0.693147</td>\n",
       "      <td>0.000000</td>\n",
       "      <td>0.000000</td>\n",
       "      <td>0.000000</td>\n",
       "      <td>0.693147</td>\n",
       "      <td>0.693147</td>\n",
       "      <td>0.000000</td>\n",
       "      <td>0.693147</td>\n",
       "      <td>1.098612</td>\n",
       "      <td>...</td>\n",
       "      <td>0.000000</td>\n",
       "      <td>0.000000</td>\n",
       "      <td>0.00000</td>\n",
       "      <td>0.000000</td>\n",
       "      <td>0.00000</td>\n",
       "      <td>0.000000</td>\n",
       "      <td>0.000000</td>\n",
       "      <td>0.000000</td>\n",
       "      <td>0.000000</td>\n",
       "      <td>0.000000</td>\n",
       "    </tr>\n",
       "    <tr>\n",
       "      <th>4</th>\n",
       "      <td>CD172a protein</td>\n",
       "      <td>0.000000</td>\n",
       "      <td>1.098612</td>\n",
       "      <td>0.000000</td>\n",
       "      <td>1.098612</td>\n",
       "      <td>0.693147</td>\n",
       "      <td>0.693147</td>\n",
       "      <td>0.693147</td>\n",
       "      <td>1.098612</td>\n",
       "      <td>0.693147</td>\n",
       "      <td>...</td>\n",
       "      <td>0.000000</td>\n",
       "      <td>0.693147</td>\n",
       "      <td>0.00000</td>\n",
       "      <td>0.693147</td>\n",
       "      <td>0.00000</td>\n",
       "      <td>0.000000</td>\n",
       "      <td>0.693147</td>\n",
       "      <td>0.000000</td>\n",
       "      <td>0.000000</td>\n",
       "      <td>0.000000</td>\n",
       "    </tr>\n",
       "  </tbody>\n",
       "</table>\n",
       "<p>5 rows × 218332 columns</p>\n",
       "</div>"
      ],
      "text/plain": [
       "          Protein    CELL_1    CELL_2    CELL_3    CELL_4    CELL_5    CELL_6  \\\n",
       "0   CD117 protein  0.000000  0.000000  0.405465  0.000000  0.000000  0.000000   \n",
       "1   CD119 protein  1.386294  1.504077  1.871802  1.945910  2.079442  1.098612   \n",
       "2  CD140a protein  0.693147  0.000000  0.000000  0.693147  0.000000  0.000000   \n",
       "3  CD140b protein  0.693147  0.000000  0.000000  0.000000  0.693147  0.693147   \n",
       "4  CD172a protein  0.000000  1.098612  0.000000  1.098612  0.693147  0.693147   \n",
       "\n",
       "     CELL_7    CELL_8    CELL_9  ...  CELL_218322  CELL_218323  CELL_218324  \\\n",
       "0  0.000000  0.000000  1.609438  ...     0.000000     0.000000      0.00000   \n",
       "1  1.791759  1.386294  1.609438  ...     2.079442     1.791759      1.94591   \n",
       "2  0.000000  0.000000  0.000000  ...     0.000000     0.000000      0.00000   \n",
       "3  0.000000  0.693147  1.098612  ...     0.000000     0.000000      0.00000   \n",
       "4  0.693147  1.098612  0.693147  ...     0.000000     0.693147      0.00000   \n",
       "\n",
       "   CELL_218325  CELL_218326  CELL_218327  CELL_218328  CELL_218329  \\\n",
       "0     0.000000      0.00000     0.000000     0.000000     0.000000   \n",
       "1     1.252763      1.94591     0.693147     1.609438     1.386294   \n",
       "2     0.000000      0.00000     0.000000     0.000000     0.000000   \n",
       "3     0.000000      0.00000     0.000000     0.000000     0.000000   \n",
       "4     0.693147      0.00000     0.000000     0.693147     0.000000   \n",
       "\n",
       "   CELL_218330  CELL_218331  \n",
       "0     0.000000     0.693147  \n",
       "1     1.098612     1.098612  \n",
       "2     0.000000     0.000000  \n",
       "3     0.000000     0.000000  \n",
       "4     0.000000     0.000000  \n",
       "\n",
       "[5 rows x 218332 columns]"
      ]
     },
     "execution_count": 5,
     "metadata": {},
     "output_type": "execute_result"
    }
   ],
   "source": [
    "\n",
    "pd_prot_exp.head(5)\n"
   ]
  },
  {
   "cell_type": "code",
   "execution_count": 6,
   "metadata": {
    "id": "3NrE6AKTM5J5"
   },
   "outputs": [],
   "source": [
    "\n",
    "# RNA expression data\n",
    "adata_1 = pd.read_csv('/home/ec2-user/modal_form/CrossModalFormer_CITE_Seq/Data/expression/RNA_expression_subset1a.csv')"
   ]
  },
  {
   "cell_type": "code",
   "execution_count": null,
   "metadata": {},
   "outputs": [],
   "source": [
    "\n",
    "# need to convert csv files to adata.h5ad files\n"
   ]
  },
  {
   "cell_type": "markdown",
   "metadata": {
    "id": "58KkAqlzM60P"
   },
   "source": [
    "### Try simple linear regression model"
   ]
  },
  {
   "cell_type": "code",
   "execution_count": null,
   "metadata": {},
   "outputs": [
    {
     "ename": "",
     "evalue": "",
     "output_type": "error",
     "traceback": [
      "\u001b[1;31mThe Kernel crashed while executing code in the current cell or a previous cell. \n",
      "\u001b[1;31mPlease review the code in the cell(s) to identify a possible cause of the failure. \n",
      "\u001b[1;31mClick <a href='https://aka.ms/vscodeJupyterKernelCrash'>here</a> for more info. \n",
      "\u001b[1;31mView Jupyter <a href='command:jupyter.viewOutput'>log</a> for further details."
     ]
    }
   ],
   "source": [
    "\n",
    "# find common columns\n",
    "cell_idx = np.intersect1d(adata_1.columns, pd_prot_exp.columns)"
   ]
  },
  {
   "cell_type": "code",
   "execution_count": null,
   "metadata": {},
   "outputs": [],
   "source": [
    "\n",
    "# RNA and protein\n",
    "X_rna = adata_1[cell_idx]\n",
    "Y_protein = pd_prot_ext[cell_idx]\n",
    "\n"
   ]
  },
  {
   "cell_type": "code",
   "execution_count": null,
   "metadata": {},
   "outputs": [],
   "source": [
    "\n",
    "Y_protein\n"
   ]
  },
  {
   "cell_type": "code",
   "execution_count": null,
   "metadata": {},
   "outputs": [],
   "source": []
  }
 ],
 "metadata": {
  "colab": {
   "provenance": []
  },
  "kernelspec": {
   "display_name": ".venv",
   "language": "python",
   "name": "python3"
  },
  "language_info": {
   "codemirror_mode": {
    "name": "ipython",
    "version": 3
   },
   "file_extension": ".py",
   "mimetype": "text/x-python",
   "name": "python",
   "nbconvert_exporter": "python",
   "pygments_lexer": "ipython3",
   "version": "3.9.23"
  }
 },
 "nbformat": 4,
 "nbformat_minor": 0
}
